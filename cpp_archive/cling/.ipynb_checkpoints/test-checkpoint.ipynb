{
 "cells": [
  {
   "cell_type": "code",
   "execution_count": 1,
   "metadata": {
    "autoscroll": false,
    "collapsed": false,
    "ein.tags": "worksheet-0",
    "slideshow": {
     "slide_type": "-"
    }
   },
   "outputs": [
    {
     "data": {
      "text/plain": [
       ""
      ]
     },
     "execution_count": 1,
     "metadata": {},
     "output_type": "execute_result"
    }
   ],
   "source": [
    "#include <iostream>\n",
    "#include <vector>\n",
    "#include <algorithm>\n",
    "using namespace std;"
   ]
  },
  {
   "cell_type": "code",
   "execution_count": 2,
   "metadata": {
    "autoscroll": false,
    "collapsed": false,
    "ein.tags": "worksheet-0",
    "slideshow": {
     "slide_type": "-"
    }
   },
   "outputs": [
    {
     "data": {
      "text/plain": [
       ""
      ]
     },
     "execution_count": 2,
     "metadata": {},
     "output_type": "execute_result"
    }
   ],
   "source": [
    "bool cmp(const string &a, const string &b) {\n",
    "  if(a.length() < b.length()) {\n",
    "    cout << a.length() << \", \" << b.length() << endl;      \n",
    "    return true;\n",
    "  }\n",
    "\n",
    "  return a > b;\n",
    "}"
   ]
  },
  {
   "cell_type": "code",
   "execution_count": 3,
   "metadata": {
    "autoscroll": false,
    "collapsed": false,
    "ein.tags": "worksheet-0",
    "slideshow": {
     "slide_type": "-"
    }
   },
   "outputs": [
    {
     "name": "stdout",
     "output_type": "stream",
     "text": [
      "1, 3\n",
      "2, 4\n",
      "4, 8\n",
      "2, 3\n",
      "2, 8\n",
      "2, 4\n",
      "2, 4\n",
      "4, 8\n",
      "2, 3\n",
      "2, 8\n",
      "2, 4\n",
      "2, 4\n",
      "2, 4\n",
      "6, 8\n",
      "2, 4\n"
     ]
    },
    {
     "data": {
      "text/plain": [
       "(void) @0x7f2e317f8d48\n"
      ]
     },
     "execution_count": 3,
     "metadata": {},
     "output_type": "execute_result"
    }
   ],
   "source": [
    "vector<string> vs;\n",
    "\n",
    "vs.push_back(\"but\");\n",
    "vs.push_back(\"i\");\n",
    "vs.push_back(\"wont\");\n",
    "vs.push_back(\"hesitate\");\n",
    "vs.push_back(\"no\");\n",
    "vs.push_back(\"more\");\n",
    "vs.push_back(\"no\");\n",
    "vs.push_back(\"more\");\n",
    "vs.push_back(\"it\");\n",
    "vs.push_back(\"cannot\");\n",
    "vs.push_back(\"wait\");\n",
    "vs.push_back(\"im\");\n",
    "vs.push_back(\"yours\");\n",
    "\n",
    "sort(vs.begin(), vs.end(), cmp);"
   ]
  },
  {
   "cell_type": "code",
   "execution_count": 4,
   "metadata": {
    "autoscroll": false,
    "collapsed": false,
    "ein.tags": "worksheet-0",
    "scrolled": true,
    "slideshow": {
     "slide_type": "-"
    }
   },
   "outputs": [
    {
     "name": "stdout",
     "output_type": "stream",
     "text": [
      "yours\n",
      "im\n",
      "wait\n",
      "no\n",
      "no\n",
      "it\n",
      "wont\n",
      "more\n",
      "more\n",
      "i\n",
      "cannot\n",
      "hesitate\n",
      "but\n"
     ]
    },
    {
     "data": {
      "text/plain": [
       ""
      ]
     },
     "execution_count": 4,
     "metadata": {},
     "output_type": "execute_result"
    }
   ],
   "source": [
    "for(auto i : vs) {\n",
    "  std::cout << i << std::endl;\n",
    "}"
   ]
  },
  {
   "cell_type": "code",
   "execution_count": 5,
   "metadata": {
    "autoscroll": false,
    "collapsed": false,
    "ein.tags": "worksheet-0",
    "slideshow": {
     "slide_type": "-"
    }
   },
   "outputs": [
    {
     "name": "stdout",
     "output_type": "stream",
     "text": [
      "5"
     ]
    },
    {
     "data": {
      "text/plain": [
       "(std::basic_ostream<char, std::char_traits<char> >::__ostream_type &) @0x7fe20fefff40\n"
      ]
     },
     "execution_count": 5,
     "metadata": {},
     "output_type": "execute_result"
    }
   ],
   "source": [
    "cout << vs.at(0).length()"
   ]
  }
 ],
 "metadata": {
  "kernelspec": {
   "display_name": "C++11",
   "name": "cling-cpp11"
  },
  "language_info": {
   "codemirror_mode": "c++",
   "file_extension": ".c++",
   "mimetype": "text/x-c++src",
   "name": "c++"
  },
  "name": "test.ipynb"
 },
 "nbformat": 4,
 "nbformat_minor": 2
}
